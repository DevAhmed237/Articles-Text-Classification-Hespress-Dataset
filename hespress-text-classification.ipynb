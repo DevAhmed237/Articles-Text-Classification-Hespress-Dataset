{
 "cells": [
  {
   "cell_type": "code",
   "execution_count": 1,
   "id": "79191a3e",
   "metadata": {
    "_cell_guid": "b1076dfc-b9ad-4769-8c92-a6c4dae69d19",
    "_uuid": "8f2839f25d086af736a60e9eeb907d3b93b6e0e5",
    "execution": {
     "iopub.execute_input": "2023-07-24T04:19:22.110925Z",
     "iopub.status.busy": "2023-07-24T04:19:22.110357Z",
     "iopub.status.idle": "2023-07-24T04:19:38.112283Z",
     "shell.execute_reply": "2023-07-24T04:19:38.110837Z"
    },
    "papermill": {
     "duration": 16.013533,
     "end_time": "2023-07-24T04:19:38.115232",
     "exception": false,
     "start_time": "2023-07-24T04:19:22.101699",
     "status": "completed"
    },
    "tags": []
   },
   "outputs": [
    {
     "name": "stdout",
     "output_type": "stream",
     "text": [
      "Collecting Tashaphyne\r\n",
      "  Downloading Tashaphyne-0.3.6-py3-none-any.whl (251 kB)\r\n",
      "\u001b[2K     \u001b[90m━━━━━━━━━━━━━━━━━━━━━━━━━━━━━━━━━━━━━━━\u001b[0m \u001b[32m251.5/251.5 kB\u001b[0m \u001b[31m7.8 MB/s\u001b[0m eta \u001b[36m0:00:00\u001b[0m\r\n",
      "\u001b[?25hRequirement already satisfied: pyarabic in /opt/conda/lib/python3.10/site-packages (from Tashaphyne) (0.6.15)\r\n",
      "Requirement already satisfied: six>=1.14.0 in /opt/conda/lib/python3.10/site-packages (from pyarabic->Tashaphyne) (1.16.0)\r\n",
      "Installing collected packages: Tashaphyne\r\n",
      "Successfully installed Tashaphyne-0.3.6\r\n"
     ]
    }
   ],
   "source": [
    "!pip install Tashaphyne"
   ]
  },
  {
   "cell_type": "code",
   "execution_count": 2,
   "id": "65a75680",
   "metadata": {
    "execution": {
     "iopub.execute_input": "2023-07-24T04:19:38.130026Z",
     "iopub.status.busy": "2023-07-24T04:19:38.129532Z",
     "iopub.status.idle": "2023-07-24T04:19:40.947634Z",
     "shell.execute_reply": "2023-07-24T04:19:40.946356Z"
    },
    "papermill": {
     "duration": 2.829167,
     "end_time": "2023-07-24T04:19:40.950813",
     "exception": false,
     "start_time": "2023-07-24T04:19:38.121646",
     "status": "completed"
    },
    "tags": []
   },
   "outputs": [
    {
     "name": "stderr",
     "output_type": "stream",
     "text": [
      "/opt/conda/lib/python3.10/site-packages/scipy/__init__.py:146: UserWarning: A NumPy version >=1.16.5 and <1.23.0 is required for this version of SciPy (detected version 1.23.5\n",
      "  warnings.warn(f\"A NumPy version >={np_minversion} and <{np_maxversion}\"\n"
     ]
    }
   ],
   "source": [
    "from sklearn.metrics import accuracy_score, classification_report, confusion_matrix\n",
    "from sklearn.feature_extraction.text import TfidfVectorizer\n",
    "from sklearn.linear_model import LogisticRegression\n",
    "from sklearn.ensemble import RandomForestClassifier\n",
    "from sklearn.naive_bayes import MultinomialNB\n",
    "from sklearn.pipeline import Pipeline\n",
    "from sklearn.svm import LinearSVC, SVC\n",
    "from tashaphyne.stemming import ArabicLightStemmer\n",
    "from nltk.tokenize import word_tokenize\n",
    "import nltk\n",
    "import matplotlib.pyplot as plt\n",
    "import seaborn as sns\n",
    "import pandas as pd\n",
    "import glob\n",
    "import re"
   ]
  },
  {
   "cell_type": "code",
   "execution_count": 3,
   "id": "9aa0b55d",
   "metadata": {
    "execution": {
     "iopub.execute_input": "2023-07-24T04:19:40.965169Z",
     "iopub.status.busy": "2023-07-24T04:19:40.964711Z",
     "iopub.status.idle": "2023-07-24T04:19:42.131788Z",
     "shell.execute_reply": "2023-07-24T04:19:42.130487Z"
    },
    "papermill": {
     "duration": 1.177556,
     "end_time": "2023-07-24T04:19:42.134676",
     "exception": false,
     "start_time": "2023-07-24T04:19:40.957120",
     "status": "completed"
    },
    "tags": []
   },
   "outputs": [
    {
     "data": {
      "text/html": [
       "<div>\n",
       "<style scoped>\n",
       "    .dataframe tbody tr th:only-of-type {\n",
       "        vertical-align: middle;\n",
       "    }\n",
       "\n",
       "    .dataframe tbody tr th {\n",
       "        vertical-align: top;\n",
       "    }\n",
       "\n",
       "    .dataframe thead th {\n",
       "        text-align: right;\n",
       "    }\n",
       "</style>\n",
       "<table border=\"1\" class=\"dataframe\">\n",
       "  <thead>\n",
       "    <tr style=\"text-align: right;\">\n",
       "      <th></th>\n",
       "      <th>id</th>\n",
       "      <th>title</th>\n",
       "      <th>date</th>\n",
       "      <th>author</th>\n",
       "      <th>story</th>\n",
       "      <th>topic</th>\n",
       "    </tr>\n",
       "  </thead>\n",
       "  <tbody>\n",
       "    <tr>\n",
       "      <th>0</th>\n",
       "      <td>9d9ebd0204f811eb92ec646e69d991ea</td>\n",
       "      <td>شهادة طبيب جراح \"تورط\" قنصلا بتر أصبع مسنة</td>\n",
       "      <td>الجمعة 02 أكتوبر 2020 - 20:08</td>\n",
       "      <td>هسبريس من الدار البيضاء</td>\n",
       "      <td>قررت الغرفة الجنائية بمحكمة الاستئناف بمدينة ا...</td>\n",
       "      <td>faits-divers</td>\n",
       "    </tr>\n",
       "    <tr>\n",
       "      <th>1</th>\n",
       "      <td>9e96ecc604f811eb836a646e69d991ea</td>\n",
       "      <td>إحباط تهريب أكثر من طن من \"الحشيش\" بأكادير</td>\n",
       "      <td>الجمعة 02 أكتوبر 2020 - 19:37</td>\n",
       "      <td>رشيد بيجيكن من أكادير</td>\n",
       "      <td>تمكنت المصلحة الولائية للشرطة القضائية بمدينة ...</td>\n",
       "      <td>faits-divers</td>\n",
       "    </tr>\n",
       "    <tr>\n",
       "      <th>2</th>\n",
       "      <td>9fc1ec4204f811eb8619646e69d991ea</td>\n",
       "      <td>كمين أمن الصويرة يسقط شبكة هجرة غير نظامية</td>\n",
       "      <td>الجمعة 02 أكتوبر 2020 - 18:35</td>\n",
       "      <td>ابراهيم مغراوي من مراكش</td>\n",
       "      <td>أوقفت عناصر فرقة الشرطة القضائية بالمنطقة الإق...</td>\n",
       "      <td>faits-divers</td>\n",
       "    </tr>\n",
       "    <tr>\n",
       "      <th>3</th>\n",
       "      <td>a0a2fa9c04f811eb8580646e69d991ea</td>\n",
       "      <td>\"تلميذة زاكورة\" تتهم زوج أختها باستغلالها جنسيا</td>\n",
       "      <td>الجمعة 02 أكتوبر 2020 - 14:20</td>\n",
       "      <td>هسبريس من زاكورة</td>\n",
       "      <td>كشف مصدر أمني مسؤول أن التلميذة المتحدرة من جم...</td>\n",
       "      <td>faits-divers</td>\n",
       "    </tr>\n",
       "    <tr>\n",
       "      <th>4</th>\n",
       "      <td>a2d0124a04f811eba88f646e69d991ea</td>\n",
       "      <td>\"أحجار كريمة مزيفة\" تورط أشخاصا بمدينة أكادير</td>\n",
       "      <td>الجمعة 02 أكتوبر 2020 - 10:05</td>\n",
       "      <td>رشيد بيجيكن من أكادير</td>\n",
       "      <td>تمكنت عناصر المصلحة الولائية للشرطة القضائية ب...</td>\n",
       "      <td>faits-divers</td>\n",
       "    </tr>\n",
       "    <tr>\n",
       "      <th>...</th>\n",
       "      <td>...</td>\n",
       "      <td>...</td>\n",
       "      <td>...</td>\n",
       "      <td>...</td>\n",
       "      <td>...</td>\n",
       "      <td>...</td>\n",
       "    </tr>\n",
       "    <tr>\n",
       "      <th>8795</th>\n",
       "      <td>a45c1b8c04f311eb9d40646e69d991ea</td>\n",
       "      <td>خالد العيني .. بصمات مغربي على الإعلام والاستث...</td>\n",
       "      <td>الأحد 13 ماي 2018 - 06:00</td>\n",
       "      <td>هسبريس ـ ط.العاطفي | أ.الخياري</td>\n",
       "      <td>حرصت عينا خالد العيني على النظر بعيدا وأنامله ...</td>\n",
       "      <td>marocains-du-monde</td>\n",
       "    </tr>\n",
       "    <tr>\n",
       "      <th>8796</th>\n",
       "      <td>a56180e804f311eb99f7646e69d991ea</td>\n",
       "      <td>188 أستاذا لتدريس العربية لأبناء مغاربة العالم</td>\n",
       "      <td>السبت 12 ماي 2018 - 23:25</td>\n",
       "      <td>هسبريس من الرباط</td>\n",
       "      <td>أعلنت وزارة التربية الوطنية والتكوين المهني وا...</td>\n",
       "      <td>marocains-du-monde</td>\n",
       "    </tr>\n",
       "    <tr>\n",
       "      <th>8797</th>\n",
       "      <td>a67a5ac604f311eb983a646e69d991ea</td>\n",
       "      <td>الحروشي .. قاض مغربي ينتصر للعدل في المحكمة ال...</td>\n",
       "      <td>السبت 12 ماي 2018 - 06:00</td>\n",
       "      <td>هسبريس ـ ط.العاطفي | أ.الخياري</td>\n",
       "      <td>لا يلفظ اسم العربي الحروشي في سلطنة عمان إلا و...</td>\n",
       "      <td>marocains-du-monde</td>\n",
       "    </tr>\n",
       "    <tr>\n",
       "      <th>8798</th>\n",
       "      <td>a788167404f311eb91c0646e69d991ea</td>\n",
       "      <td>غزلان الصيابري .. مغربية تعتلي قمّة المال والأ...</td>\n",
       "      <td>الجمعة 11 ماي 2018 - 06:00</td>\n",
       "      <td>هسبريس ـ ط.العاطفي | أ.الخياري</td>\n",
       "      <td>طال المقام بالمغربية غزلان الصيابري في تجربة ا...</td>\n",
       "      <td>marocains-du-monde</td>\n",
       "    </tr>\n",
       "    <tr>\n",
       "      <th>8799</th>\n",
       "      <td>aa9adb7004f311ebb234646e69d991ea</td>\n",
       "      <td>جواد الخراز .. خبير مغربي يقود أبحاث تحلية الم...</td>\n",
       "      <td>الأربعاء 09 ماي 2018 - 06:00</td>\n",
       "      <td>هسبريس ـ ط.العاطفي | أ.الخياري</td>\n",
       "      <td>يحوز جواد الخراز تنشئة أساسية مغربية تلازمه بل...</td>\n",
       "      <td>marocains-du-monde</td>\n",
       "    </tr>\n",
       "  </tbody>\n",
       "</table>\n",
       "<p>8800 rows × 6 columns</p>\n",
       "</div>"
      ],
      "text/plain": [
       "                                    id  \\\n",
       "0     9d9ebd0204f811eb92ec646e69d991ea   \n",
       "1     9e96ecc604f811eb836a646e69d991ea   \n",
       "2     9fc1ec4204f811eb8619646e69d991ea   \n",
       "3     a0a2fa9c04f811eb8580646e69d991ea   \n",
       "4     a2d0124a04f811eba88f646e69d991ea   \n",
       "...                                ...   \n",
       "8795  a45c1b8c04f311eb9d40646e69d991ea   \n",
       "8796  a56180e804f311eb99f7646e69d991ea   \n",
       "8797  a67a5ac604f311eb983a646e69d991ea   \n",
       "8798  a788167404f311eb91c0646e69d991ea   \n",
       "8799  aa9adb7004f311ebb234646e69d991ea   \n",
       "\n",
       "                                                  title  \\\n",
       "0            شهادة طبيب جراح \"تورط\" قنصلا بتر أصبع مسنة   \n",
       "1            إحباط تهريب أكثر من طن من \"الحشيش\" بأكادير   \n",
       "2            كمين أمن الصويرة يسقط شبكة هجرة غير نظامية   \n",
       "3       \"تلميذة زاكورة\" تتهم زوج أختها باستغلالها جنسيا   \n",
       "4         \"أحجار كريمة مزيفة\" تورط أشخاصا بمدينة أكادير   \n",
       "...                                                 ...   \n",
       "8795  خالد العيني .. بصمات مغربي على الإعلام والاستث...   \n",
       "8796     188 أستاذا لتدريس العربية لأبناء مغاربة العالم   \n",
       "8797  الحروشي .. قاض مغربي ينتصر للعدل في المحكمة ال...   \n",
       "8798  غزلان الصيابري .. مغربية تعتلي قمّة المال والأ...   \n",
       "8799  جواد الخراز .. خبير مغربي يقود أبحاث تحلية الم...   \n",
       "\n",
       "                               date                          author  \\\n",
       "0     الجمعة 02 أكتوبر 2020 - 20:08         هسبريس من الدار البيضاء   \n",
       "1     الجمعة 02 أكتوبر 2020 - 19:37           رشيد بيجيكن من أكادير   \n",
       "2     الجمعة 02 أكتوبر 2020 - 18:35         ابراهيم مغراوي من مراكش   \n",
       "3     الجمعة 02 أكتوبر 2020 - 14:20                هسبريس من زاكورة   \n",
       "4     الجمعة 02 أكتوبر 2020 - 10:05           رشيد بيجيكن من أكادير   \n",
       "...                             ...                             ...   \n",
       "8795      الأحد 13 ماي 2018 - 06:00  هسبريس ـ ط.العاطفي | أ.الخياري   \n",
       "8796      السبت 12 ماي 2018 - 23:25                هسبريس من الرباط   \n",
       "8797      السبت 12 ماي 2018 - 06:00  هسبريس ـ ط.العاطفي | أ.الخياري   \n",
       "8798     الجمعة 11 ماي 2018 - 06:00  هسبريس ـ ط.العاطفي | أ.الخياري   \n",
       "8799   الأربعاء 09 ماي 2018 - 06:00  هسبريس ـ ط.العاطفي | أ.الخياري   \n",
       "\n",
       "                                                  story               topic  \n",
       "0     قررت الغرفة الجنائية بمحكمة الاستئناف بمدينة ا...        faits-divers  \n",
       "1     تمكنت المصلحة الولائية للشرطة القضائية بمدينة ...        faits-divers  \n",
       "2     أوقفت عناصر فرقة الشرطة القضائية بالمنطقة الإق...        faits-divers  \n",
       "3     كشف مصدر أمني مسؤول أن التلميذة المتحدرة من جم...        faits-divers  \n",
       "4     تمكنت عناصر المصلحة الولائية للشرطة القضائية ب...        faits-divers  \n",
       "...                                                 ...                 ...  \n",
       "8795  حرصت عينا خالد العيني على النظر بعيدا وأنامله ...  marocains-du-monde  \n",
       "8796  أعلنت وزارة التربية الوطنية والتكوين المهني وا...  marocains-du-monde  \n",
       "8797  لا يلفظ اسم العربي الحروشي في سلطنة عمان إلا و...  marocains-du-monde  \n",
       "8798  طال المقام بالمغربية غزلان الصيابري في تجربة ا...  marocains-du-monde  \n",
       "8799  يحوز جواد الخراز تنشئة أساسية مغربية تلازمه بل...  marocains-du-monde  \n",
       "\n",
       "[8800 rows x 6 columns]"
      ]
     },
     "execution_count": 3,
     "metadata": {},
     "output_type": "execute_result"
    }
   ],
   "source": [
    "# Make a list of stories data only\n",
    "csv_files = [csv_file for csv_file in glob.glob('/kaggle/input/hespress/*.csv') if 'stories' in csv_file]\n",
    "\n",
    "# Create an empty DataFrame for train & test data\n",
    "train_df = pd.DataFrame()\n",
    "test_df = pd.DataFrame()\n",
    "\n",
    "# Iterate over the CSV files and add them to the DataFrames\n",
    "for csv_file in csv_files:\n",
    "    df_temp = pd.read_csv(csv_file, index_col=0, encoding=\"utf-8\")\n",
    "    df_temp_test = df_temp.sample(frac=.2, random_state=23)\n",
    "    test_df = pd.concat([test_df, df_temp_test], ignore_index=True)\n",
    "    train_df = pd.concat([train_df, df_temp.drop(df_temp_test.index)], ignore_index=True)\n",
    "\n",
    "# Show the train DataFrame\n",
    "train_df"
   ]
  },
  {
   "cell_type": "code",
   "execution_count": 4,
   "id": "af1d5b54",
   "metadata": {
    "execution": {
     "iopub.execute_input": "2023-07-24T04:19:42.151737Z",
     "iopub.status.busy": "2023-07-24T04:19:42.151318Z",
     "iopub.status.idle": "2023-07-24T04:19:42.158664Z",
     "shell.execute_reply": "2023-07-24T04:19:42.157545Z"
    },
    "papermill": {
     "duration": 0.017942,
     "end_time": "2023-07-24T04:19:42.160990",
     "exception": false,
     "start_time": "2023-07-24T04:19:42.143048",
     "status": "completed"
    },
    "tags": []
   },
   "outputs": [
    {
     "data": {
      "text/plain": [
       "((8800, 6), (2200, 6))"
      ]
     },
     "execution_count": 4,
     "metadata": {},
     "output_type": "execute_result"
    }
   ],
   "source": [
    "# Shape of our data\n",
    "train_df.shape, test_df.shape"
   ]
  },
  {
   "cell_type": "code",
   "execution_count": 5,
   "id": "04110f09",
   "metadata": {
    "execution": {
     "iopub.execute_input": "2023-07-24T04:19:42.176524Z",
     "iopub.status.busy": "2023-07-24T04:19:42.175903Z",
     "iopub.status.idle": "2023-07-24T04:19:42.188412Z",
     "shell.execute_reply": "2023-07-24T04:19:42.187250Z"
    },
    "papermill": {
     "duration": 0.023353,
     "end_time": "2023-07-24T04:19:42.191029",
     "exception": false,
     "start_time": "2023-07-24T04:19:42.167676",
     "status": "completed"
    },
    "tags": []
   },
   "outputs": [
    {
     "data": {
      "text/plain": [
       "(faits-divers          800\n",
       " art-et-culture        800\n",
       " regions               800\n",
       " sport                 800\n",
       " medias                800\n",
       " economie              800\n",
       " tamazight             800\n",
       " societe               800\n",
       " orbites               800\n",
       " politique             800\n",
       " marocains-du-monde    800\n",
       " Name: topic, dtype: int64,\n",
       " '',\n",
       " faits-divers          200\n",
       " art-et-culture        200\n",
       " regions               200\n",
       " sport                 200\n",
       " medias                200\n",
       " economie              200\n",
       " tamazight             200\n",
       " societe               200\n",
       " orbites               200\n",
       " politique             200\n",
       " marocains-du-monde    200\n",
       " Name: topic, dtype: int64)"
      ]
     },
     "execution_count": 5,
     "metadata": {},
     "output_type": "execute_result"
    }
   ],
   "source": [
    "# Check for class imbalance\n",
    "train_df.topic.value_counts(), \"\", test_df.topic.value_counts()"
   ]
  },
  {
   "cell_type": "code",
   "execution_count": 6,
   "id": "91d73f26",
   "metadata": {
    "execution": {
     "iopub.execute_input": "2023-07-24T04:19:42.206780Z",
     "iopub.status.busy": "2023-07-24T04:19:42.206338Z",
     "iopub.status.idle": "2023-07-24T04:19:42.221331Z",
     "shell.execute_reply": "2023-07-24T04:19:42.220021Z"
    },
    "papermill": {
     "duration": 0.025934,
     "end_time": "2023-07-24T04:19:42.223795",
     "exception": false,
     "start_time": "2023-07-24T04:19:42.197861",
     "status": "completed"
    },
    "tags": []
   },
   "outputs": [
    {
     "data": {
      "text/html": [
       "<div>\n",
       "<style scoped>\n",
       "    .dataframe tbody tr th:only-of-type {\n",
       "        vertical-align: middle;\n",
       "    }\n",
       "\n",
       "    .dataframe tbody tr th {\n",
       "        vertical-align: top;\n",
       "    }\n",
       "\n",
       "    .dataframe thead th {\n",
       "        text-align: right;\n",
       "    }\n",
       "</style>\n",
       "<table border=\"1\" class=\"dataframe\">\n",
       "  <thead>\n",
       "    <tr style=\"text-align: right;\">\n",
       "      <th></th>\n",
       "      <th>story</th>\n",
       "      <th>topic</th>\n",
       "    </tr>\n",
       "  </thead>\n",
       "  <tbody>\n",
       "    <tr>\n",
       "      <th>0</th>\n",
       "      <td>قررت الغرفة الجنائية بمحكمة الاستئناف بمدينة ا...</td>\n",
       "      <td>faits-divers</td>\n",
       "    </tr>\n",
       "    <tr>\n",
       "      <th>1</th>\n",
       "      <td>تمكنت المصلحة الولائية للشرطة القضائية بمدينة ...</td>\n",
       "      <td>faits-divers</td>\n",
       "    </tr>\n",
       "    <tr>\n",
       "      <th>2</th>\n",
       "      <td>أوقفت عناصر فرقة الشرطة القضائية بالمنطقة الإق...</td>\n",
       "      <td>faits-divers</td>\n",
       "    </tr>\n",
       "    <tr>\n",
       "      <th>3</th>\n",
       "      <td>كشف مصدر أمني مسؤول أن التلميذة المتحدرة من جم...</td>\n",
       "      <td>faits-divers</td>\n",
       "    </tr>\n",
       "    <tr>\n",
       "      <th>4</th>\n",
       "      <td>تمكنت عناصر المصلحة الولائية للشرطة القضائية ب...</td>\n",
       "      <td>faits-divers</td>\n",
       "    </tr>\n",
       "  </tbody>\n",
       "</table>\n",
       "</div>"
      ],
      "text/plain": [
       "                                               story         topic\n",
       "0  قررت الغرفة الجنائية بمحكمة الاستئناف بمدينة ا...  faits-divers\n",
       "1  تمكنت المصلحة الولائية للشرطة القضائية بمدينة ...  faits-divers\n",
       "2  أوقفت عناصر فرقة الشرطة القضائية بالمنطقة الإق...  faits-divers\n",
       "3  كشف مصدر أمني مسؤول أن التلميذة المتحدرة من جم...  faits-divers\n",
       "4  تمكنت عناصر المصلحة الولائية للشرطة القضائية ب...  faits-divers"
      ]
     },
     "execution_count": 6,
     "metadata": {},
     "output_type": "execute_result"
    }
   ],
   "source": [
    "# Remove irelevent columns\n",
    "train_df = train_df[['story', 'topic']]\n",
    "test_df = test_df[['story', 'topic']]\n",
    "train_df.head()"
   ]
  },
  {
   "cell_type": "code",
   "execution_count": 7,
   "id": "1a95a1b1",
   "metadata": {
    "execution": {
     "iopub.execute_input": "2023-07-24T04:19:42.240949Z",
     "iopub.status.busy": "2023-07-24T04:19:42.240424Z",
     "iopub.status.idle": "2023-07-24T04:19:42.248536Z",
     "shell.execute_reply": "2023-07-24T04:19:42.247530Z"
    },
    "papermill": {
     "duration": 0.019407,
     "end_time": "2023-07-24T04:19:42.250838",
     "exception": false,
     "start_time": "2023-07-24T04:19:42.231431",
     "status": "completed"
    },
    "tags": []
   },
   "outputs": [],
   "source": [
    "# Define function for processing and cleaning arabic data\n",
    "def process_text(text):\n",
    "  # Remove diacritics\n",
    "  text = text.replace(\"َ\", \"\").replace(\"ُ\", \"\").replace(\"ِ\", \"\").replace(\"ْ\", \"\")\n",
    "  \n",
    "  # Remove all the special characters\n",
    "  text = re.sub(r'\\W', ' ', text)\n",
    "\n",
    "  # Normalize the input text\n",
    "  text = text.lower()\n",
    "\n",
    "  # Tokenize the input text\n",
    "  words = word_tokenize(text)\n",
    "\n",
    "  # Remove stop words and stem the remaining words\n",
    "  stop_words = nltk.corpus.stopwords.words('arabic')\n",
    "  stemmer = ArabicLightStemmer()\n",
    "  stemmed_words = [stemmer.light_stem(word) for word in words if word not in stop_words]\n",
    "    \n",
    "  # Return output\n",
    "  return ' '.join(stemmed_words)"
   ]
  },
  {
   "cell_type": "code",
   "execution_count": 8,
   "id": "c9ca8cf4",
   "metadata": {
    "execution": {
     "iopub.execute_input": "2023-07-24T04:19:42.266825Z",
     "iopub.status.busy": "2023-07-24T04:19:42.266372Z",
     "iopub.status.idle": "2023-07-24T04:26:05.913414Z",
     "shell.execute_reply": "2023-07-24T04:26:05.912219Z"
    },
    "papermill": {
     "duration": 383.665603,
     "end_time": "2023-07-24T04:26:05.923605",
     "exception": false,
     "start_time": "2023-07-24T04:19:42.258002",
     "status": "completed"
    },
    "tags": []
   },
   "outputs": [
    {
     "name": "stderr",
     "output_type": "stream",
     "text": [
      "/tmp/ipykernel_20/108121024.py:2: SettingWithCopyWarning: \n",
      "A value is trying to be set on a copy of a slice from a DataFrame.\n",
      "Try using .loc[row_indexer,col_indexer] = value instead\n",
      "\n",
      "See the caveats in the documentation: https://pandas.pydata.org/pandas-docs/stable/user_guide/indexing.html#returning-a-view-versus-a-copy\n",
      "  train_df['story_cleaned'] = train_df['story'].apply(process_text)\n"
     ]
    },
    {
     "data": {
      "text/html": [
       "<div>\n",
       "<style scoped>\n",
       "    .dataframe tbody tr th:only-of-type {\n",
       "        vertical-align: middle;\n",
       "    }\n",
       "\n",
       "    .dataframe tbody tr th {\n",
       "        vertical-align: top;\n",
       "    }\n",
       "\n",
       "    .dataframe thead th {\n",
       "        text-align: right;\n",
       "    }\n",
       "</style>\n",
       "<table border=\"1\" class=\"dataframe\">\n",
       "  <thead>\n",
       "    <tr style=\"text-align: right;\">\n",
       "      <th></th>\n",
       "      <th>story</th>\n",
       "      <th>story_cleaned</th>\n",
       "    </tr>\n",
       "  </thead>\n",
       "  <tbody>\n",
       "    <tr>\n",
       "      <th>0</th>\n",
       "      <td>قررت الغرفة الجنائية بمحكمة الاستئناف بمدينة ا...</td>\n",
       "      <td>قرر غرف جنائ محكم استئناف مدين دار بيضاء مواصل...</td>\n",
       "    </tr>\n",
       "    <tr>\n",
       "      <th>1</th>\n",
       "      <td>تمكنت المصلحة الولائية للشرطة القضائية بمدينة ...</td>\n",
       "      <td>تمكن مصلح ولائ شرط قضائ مدين كادير ضوء معلوم د...</td>\n",
       "    </tr>\n",
       "    <tr>\n",
       "      <th>2</th>\n",
       "      <td>أوقفت عناصر فرقة الشرطة القضائية بالمنطقة الإق...</td>\n",
       "      <td>قف عناصر رق شرط قضائ منطق إقليم أمن مدين صوير ...</td>\n",
       "    </tr>\n",
       "    <tr>\n",
       "      <th>3</th>\n",
       "      <td>كشف مصدر أمني مسؤول أن التلميذة المتحدرة من جم...</td>\n",
       "      <td>شف مصدر من مسؤول تلميذ متحدر جماع نزول إقليم ز...</td>\n",
       "    </tr>\n",
       "    <tr>\n",
       "      <th>4</th>\n",
       "      <td>تمكنت عناصر المصلحة الولائية للشرطة القضائية ب...</td>\n",
       "      <td>تمكن عناصر مصلح ولائ شرط قضائ مدين كادير أربعا...</td>\n",
       "    </tr>\n",
       "    <tr>\n",
       "      <th>...</th>\n",
       "      <td>...</td>\n",
       "      <td>...</td>\n",
       "    </tr>\n",
       "    <tr>\n",
       "      <th>8795</th>\n",
       "      <td>حرصت عينا خالد العيني على النظر بعيدا وأنامله ...</td>\n",
       "      <td>حرص عي خالد عين نظر عيدا نامل تفحص أمام عتاد ب...</td>\n",
       "    </tr>\n",
       "    <tr>\n",
       "      <th>8796</th>\n",
       "      <td>أعلنت وزارة التربية الوطنية والتكوين المهني وا...</td>\n",
       "      <td>علن زار ترب وطن تكو مهن تعليم عال بحث علم قطاع...</td>\n",
       "    </tr>\n",
       "    <tr>\n",
       "      <th>8797</th>\n",
       "      <td>لا يلفظ اسم العربي الحروشي في سلطنة عمان إلا و...</td>\n",
       "      <td>لفظ سم عرب حروش سلطن عم مقترن عبار ضيل قاض طيل...</td>\n",
       "    </tr>\n",
       "    <tr>\n",
       "      <th>8798</th>\n",
       "      <td>طال المقام بالمغربية غزلان الصيابري في تجربة ا...</td>\n",
       "      <td>طال مقام مغرب غزل صيابر تجرب هجر صل عد سن يف إ...</td>\n",
       "    </tr>\n",
       "    <tr>\n",
       "      <th>8799</th>\n",
       "      <td>يحوز جواد الخراز تنشئة أساسية مغربية تلازمه بل...</td>\n",
       "      <td>حوز جواد خراز تنشئ ساس مغرب لازم لكن سا شمال ي...</td>\n",
       "    </tr>\n",
       "  </tbody>\n",
       "</table>\n",
       "<p>8800 rows × 2 columns</p>\n",
       "</div>"
      ],
      "text/plain": [
       "                                                  story  \\\n",
       "0     قررت الغرفة الجنائية بمحكمة الاستئناف بمدينة ا...   \n",
       "1     تمكنت المصلحة الولائية للشرطة القضائية بمدينة ...   \n",
       "2     أوقفت عناصر فرقة الشرطة القضائية بالمنطقة الإق...   \n",
       "3     كشف مصدر أمني مسؤول أن التلميذة المتحدرة من جم...   \n",
       "4     تمكنت عناصر المصلحة الولائية للشرطة القضائية ب...   \n",
       "...                                                 ...   \n",
       "8795  حرصت عينا خالد العيني على النظر بعيدا وأنامله ...   \n",
       "8796  أعلنت وزارة التربية الوطنية والتكوين المهني وا...   \n",
       "8797  لا يلفظ اسم العربي الحروشي في سلطنة عمان إلا و...   \n",
       "8798  طال المقام بالمغربية غزلان الصيابري في تجربة ا...   \n",
       "8799  يحوز جواد الخراز تنشئة أساسية مغربية تلازمه بل...   \n",
       "\n",
       "                                          story_cleaned  \n",
       "0     قرر غرف جنائ محكم استئناف مدين دار بيضاء مواصل...  \n",
       "1     تمكن مصلح ولائ شرط قضائ مدين كادير ضوء معلوم د...  \n",
       "2     قف عناصر رق شرط قضائ منطق إقليم أمن مدين صوير ...  \n",
       "3     شف مصدر من مسؤول تلميذ متحدر جماع نزول إقليم ز...  \n",
       "4     تمكن عناصر مصلح ولائ شرط قضائ مدين كادير أربعا...  \n",
       "...                                                 ...  \n",
       "8795  حرص عي خالد عين نظر عيدا نامل تفحص أمام عتاد ب...  \n",
       "8796  علن زار ترب وطن تكو مهن تعليم عال بحث علم قطاع...  \n",
       "8797  لفظ سم عرب حروش سلطن عم مقترن عبار ضيل قاض طيل...  \n",
       "8798  طال مقام مغرب غزل صيابر تجرب هجر صل عد سن يف إ...  \n",
       "8799  حوز جواد خراز تنشئ ساس مغرب لازم لكن سا شمال ي...  \n",
       "\n",
       "[8800 rows x 2 columns]"
      ]
     },
     "execution_count": 8,
     "metadata": {},
     "output_type": "execute_result"
    }
   ],
   "source": [
    "# Apply proccess function on story data\n",
    "train_df['story_cleaned'] = train_df['story'].apply(process_text)\n",
    "test_df['story_cleaned'] = test_df['story'].apply(process_text)\n",
    "\n",
    "train_df[['story', 'story_cleaned']]"
   ]
  },
  {
   "cell_type": "code",
   "execution_count": 9,
   "id": "eb7a4457",
   "metadata": {
    "execution": {
     "iopub.execute_input": "2023-07-24T04:26:05.940935Z",
     "iopub.status.busy": "2023-07-24T04:26:05.940099Z",
     "iopub.status.idle": "2023-07-24T04:26:05.949246Z",
     "shell.execute_reply": "2023-07-24T04:26:05.948087Z"
    },
    "papermill": {
     "duration": 0.020615,
     "end_time": "2023-07-24T04:26:05.951747",
     "exception": false,
     "start_time": "2023-07-24T04:26:05.931132",
     "status": "completed"
    },
    "tags": []
   },
   "outputs": [
    {
     "data": {
      "text/plain": [
       "((8800,), (8800,))"
      ]
     },
     "execution_count": 9,
     "metadata": {},
     "output_type": "execute_result"
    }
   ],
   "source": [
    "# Seperate features and target values for train and test data\n",
    "\n",
    "X_train = train_df['story_cleaned']\n",
    "y_train = train_df['topic']\n",
    "\n",
    "X_test = test_df['story_cleaned']\n",
    "y_test = test_df['topic']\n",
    "\n",
    "X_train.shape , y_train.shape"
   ]
  },
  {
   "cell_type": "code",
   "execution_count": 10,
   "id": "3f702095",
   "metadata": {
    "execution": {
     "iopub.execute_input": "2023-07-24T04:26:05.970089Z",
     "iopub.status.busy": "2023-07-24T04:26:05.969019Z",
     "iopub.status.idle": "2023-07-24T04:26:33.074912Z",
     "shell.execute_reply": "2023-07-24T04:26:33.073555Z"
    },
    "papermill": {
     "duration": 27.118283,
     "end_time": "2023-07-24T04:26:33.078086",
     "exception": false,
     "start_time": "2023-07-24T04:26:05.959803",
     "status": "completed"
    },
    "tags": []
   },
   "outputs": [
    {
     "name": "stdout",
     "output_type": "stream",
     "text": [
      "Accuracy score using Logistic Regression is: 84.0909090909091%\n"
     ]
    }
   ],
   "source": [
    "# Apply Logistic Regression pipeline\n",
    "text_clf_log = Pipeline([('tfidf', TfidfVectorizer()), ('clf', LogisticRegression()),])\n",
    "text_clf_log.fit(X_train, y_train)\n",
    "\n",
    "log_preds = text_clf_log.predict(X_test)\n",
    "print(\"Accuracy score using Logistic Regression is: {}%\".format(accuracy_score(y_test, log_preds)*100))"
   ]
  },
  {
   "cell_type": "code",
   "execution_count": 11,
   "id": "f55ab4c4",
   "metadata": {
    "execution": {
     "iopub.execute_input": "2023-07-24T04:26:33.096815Z",
     "iopub.status.busy": "2023-07-24T04:26:33.095996Z",
     "iopub.status.idle": "2023-07-24T04:26:39.228130Z",
     "shell.execute_reply": "2023-07-24T04:26:39.227100Z"
    },
    "papermill": {
     "duration": 6.144499,
     "end_time": "2023-07-24T04:26:39.230820",
     "exception": false,
     "start_time": "2023-07-24T04:26:33.086321",
     "status": "completed"
    },
    "tags": []
   },
   "outputs": [
    {
     "name": "stdout",
     "output_type": "stream",
     "text": [
      "Accuracy score using Logistic Regression is: 84.5909090909091%\n"
     ]
    }
   ],
   "source": [
    "# Apply LinearSVC pipeline\n",
    "text_clf_lsvc = Pipeline([('tfidf', TfidfVectorizer()), ('clf', LinearSVC()),])\n",
    "text_clf_lsvc.fit(X_train, y_train)\n",
    "\n",
    "lsvc_preds = text_clf_lsvc.predict(X_test)\n",
    "print(\"Accuracy score using Logistic Regression is: {}%\".format(accuracy_score(y_test, lsvc_preds)*100))"
   ]
  },
  {
   "cell_type": "code",
   "execution_count": 12,
   "id": "eb29eac8",
   "metadata": {
    "execution": {
     "iopub.execute_input": "2023-07-24T04:26:39.249115Z",
     "iopub.status.busy": "2023-07-24T04:26:39.248420Z",
     "iopub.status.idle": "2023-07-24T04:30:31.869607Z",
     "shell.execute_reply": "2023-07-24T04:30:31.868132Z"
    },
    "papermill": {
     "duration": 232.643233,
     "end_time": "2023-07-24T04:30:31.882159",
     "exception": false,
     "start_time": "2023-07-24T04:26:39.238926",
     "status": "completed"
    },
    "tags": []
   },
   "outputs": [
    {
     "name": "stdout",
     "output_type": "stream",
     "text": [
      "Accuracy score using Logistic Regression is: 85.31818181818181%\n",
      "                    precision    recall  f1-score   support\n",
      "\n",
      "    art-et-culture       0.83      0.88      0.85       200\n",
      "          economie       0.83      0.89      0.86       200\n",
      "      faits-divers       0.96      0.93      0.95       200\n",
      "marocains-du-monde       0.88      0.88      0.88       200\n",
      "            medias       0.96      0.90      0.93       200\n",
      "           orbites       0.68      0.70      0.69       200\n",
      "         politique       0.82      0.80      0.81       200\n",
      "           regions       0.81      0.77      0.79       200\n",
      "           societe       0.69      0.75      0.72       200\n",
      "             sport       0.99      0.99      0.99       200\n",
      "         tamazight       0.96      0.92      0.94       200\n",
      "\n",
      "          accuracy                           0.85      2200\n",
      "         macro avg       0.86      0.85      0.85      2200\n",
      "      weighted avg       0.86      0.85      0.85      2200\n",
      "\n"
     ]
    }
   ],
   "source": [
    "# Apply SVC pipeline\n",
    "text_clf_svc = Pipeline([('tfidf', TfidfVectorizer()), ('clf', SVC()),])\n",
    "text_clf_svc.fit(X_train, y_train)\n",
    "\n",
    "svc_preds = text_clf_svc.predict(X_test)\n",
    "print(\"Accuracy score using Logistic Regression is: {}%\".format(accuracy_score(y_test, svc_preds)*100))\n",
    "print(classification_report(y_test, svc_preds))"
   ]
  },
  {
   "cell_type": "markdown",
   "id": "0620ee8d",
   "metadata": {
    "papermill": {
     "duration": 0.00823,
     "end_time": "2023-07-24T04:30:31.898946",
     "exception": false,
     "start_time": "2023-07-24T04:30:31.890716",
     "status": "completed"
    },
    "tags": []
   },
   "source": [
    "**Precision**: Precision measures the accuracy of positive predictions made by the model. In the context of this task, it represents the proportion of correctly classified instances of a class concerning all instances classified as that class. For example, for the \"sport\" class, the model correctly predicted 99% of the examples it classified as \"sport.\"\n",
    "\n",
    "**Recall**: Recall, also known as sensitivity or true positive rate, measures the ability of the model to capture positive instances of a class. In the context of this task, it represents the proportion of correctly classified instances of a class concerning all actual instances of that class. For example, for the \"tamazight\" class, the model captured 92% of all actual \"tamazight\" examples.\n",
    "\n",
    "**F1-Score**: The F1-score is the harmonic mean of precision and recall. It provides a balance between the two metrics and is useful when dealing with imbalanced datasets. A high F1-score indicates a good balance between precision and recall. For instance, the \"sport\" class has an F1-score of 0.99, indicating a very high balance between precision and recall.\n",
    "\n",
    "**Accuracy**: Accuracy measures the overall correctness of the model's predictions. It is the ratio of correctly classified examples to the total number of examples. In this case, the model achieved an accuracy of 85%, meaning 85% of the test examples were correctly classified."
   ]
  },
  {
   "cell_type": "code",
   "execution_count": 13,
   "id": "b26ca113",
   "metadata": {
    "execution": {
     "iopub.execute_input": "2023-07-24T04:30:31.917987Z",
     "iopub.status.busy": "2023-07-24T04:30:31.917528Z",
     "iopub.status.idle": "2023-07-24T04:30:32.786319Z",
     "shell.execute_reply": "2023-07-24T04:30:32.784929Z"
    },
    "papermill": {
     "duration": 0.881508,
     "end_time": "2023-07-24T04:30:32.788999",
     "exception": false,
     "start_time": "2023-07-24T04:30:31.907491",
     "status": "completed"
    },
    "tags": []
   },
   "outputs": [
    {
     "data": {
      "text/plain": [
       "Text(0.5, 1.0, 'Confusion Matrix')"
      ]
     },
     "execution_count": 13,
     "metadata": {},
     "output_type": "execute_result"
    },
    {
     "data": {
      "image/png": "[encoded data removed]",
      "text/plain": [
       "<Figure size 640x480 with 2 Axes>"
      ]
     },
     "metadata": {},
     "output_type": "display_data"
    }
   ],
   "source": [
    "# Plot confusion matrix\n",
    "conf_mat = confusion_matrix(y_test, svc_preds)\n",
    "labels = ['art-et-culture', 'economie', 'faits-divers', 'marocains-du-monde', 'medias', 'orbites', 'politique', 'regions', 'societe', 'sport', 'tamazight']\n",
    "\n",
    "sns.heatmap(conf_mat, annot=True, cmap=\"Blues\", fmt='d', xticklabels=labels, yticklabels=labels)\n",
    "\n",
    "plt.ylabel('Actual')\n",
    "plt.xlabel('Predicted')\n",
    "plt.title(\"Confusion Matrix\")"
   ]
  },
  {
   "cell_type": "markdown",
   "id": "ad7b1269",
   "metadata": {
    "papermill": {
     "duration": 0.009906,
     "end_time": "2023-07-24T04:30:32.809038",
     "exception": false,
     "start_time": "2023-07-24T04:30:32.799132",
     "status": "completed"
    },
    "tags": []
   },
   "source": [
    "In general, the confusion matrix looks good (clear diagonal that represents correct classifications). Nevertheless, there are cases were the complaint was classified in a wrong class."
   ]
  },
  {
   "cell_type": "markdown",
   "id": "a87eeba0",
   "metadata": {
    "papermill": {
     "duration": 0.009678,
     "end_time": "2023-07-24T04:30:32.828667",
     "exception": false,
     "start_time": "2023-07-24T04:30:32.818989",
     "status": "completed"
    },
    "tags": []
   },
   "source": [
    "**Enhancements for Better Results:**\n",
    "* Collect More Data\n",
    "* Advanced Feature Engineering\n",
    "* Hyperparameter Tuning\n",
    "* Apply Advanced Algorithms ex: Deep Learning"
   ]
  }
 ],
 "metadata": {
  "kernelspec": {
   "display_name": "Python 3",
   "language": "python",
   "name": "python3"
  },
  "language_info": {
   "codemirror_mode": {
    "name": "ipython",
    "version": 3
   },
   "file_extension": ".py",
   "mimetype": "text/x-python",
   "name": "python",
   "nbconvert_exporter": "python",
   "pygments_lexer": "ipython3",
   "version": "3.10.12"
  },
  "papermill": {
   "default_parameters": {},
   "duration": 685.045007,
   "end_time": "2023-07-24T04:30:34.166847",
   "environment_variables": {},
   "exception": null,
   "input_path": "__notebook__.ipynb",
   "output_path": "__notebook__.ipynb",
   "parameters": {},
   "start_time": "2023-07-24T04:19:09.121840",
   "version": "2.4.0"
  }
 },
 "nbformat": 4,
 "nbformat_minor": 5
}
